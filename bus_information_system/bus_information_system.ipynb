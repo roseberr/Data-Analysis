{
  "nbformat": 4,
  "nbformat_minor": 0,
  "metadata": {
    "colab": {
      "name": "bus_information_system",
      "provenance": [],
      "collapsed_sections": [],
      "toc_visible": true,
      "mount_file_id": "1HuaLfQDoMMc6IMd62wYCmF24sGtD1Mfn",
      "authorship_tag": "ABX9TyPD7EMvS3U9F6uznd4p4IfZ",
      "include_colab_link": true
    },
    "kernelspec": {
      "name": "python3",
      "display_name": "Python 3"
    },
    "accelerator": "TPU"
  },
  "cells": [
    {
      "cell_type": "markdown",
      "metadata": {
        "id": "view-in-github",
        "colab_type": "text"
      },
      "source": [
        "<a href=\"https://colab.research.google.com/github/roseberr/data-analysis/blob/master/keggle/bus_information_system/bus_information_system.ipynb\" target=\"_parent\"><img src=\"https://colab.research.google.com/assets/colab-badge.svg\" alt=\"Open In Colab\"/></a>"
      ]
    },
    {
      "cell_type": "code",
      "metadata": {
        "id": "Yps-sUgm6xlR",
        "colab_type": "code",
        "colab": {}
      },
      "source": [
        "from google.colab import drive\n",
        "import pandas as pd\n",
        "import numpy as np\n",
        "import statsmodels.api as sm\n",
        "import scipy.stats as st\n",
        "import matplotlib.pyplot as plt\n",
        "import sklearn as sklearn\n",
        "import seaborn as sn\n",
        "from sklearn.metrics import confusion_matrix\n",
        "import torch\n",
        "import torchvision\n",
        "import torchtext\n",
        "from sklearn.preprocessing import LabelEncoder # 라벨 인코더"
      ],
      "execution_count": 0,
      "outputs": []
    },
    {
      "cell_type": "code",
      "metadata": {
        "id": "4jiGHZ4h-tOv",
        "colab_type": "code",
        "colab": {}
      },
      "source": [
        "#drive.mount('/content/gdrive')"
      ],
      "execution_count": 0,
      "outputs": []
    },
    {
      "cell_type": "code",
      "metadata": {
        "id": "6dMdZgHv8WMa",
        "colab_type": "code",
        "outputId": "c782a292-5e2c-4eb7-9f1b-8e06ee3198d4",
        "colab": {
          "base_uri": "https://localhost:8080/",
          "height": 419
        }
      },
      "source": [
        "#submission=pd.read_csv('/content/gdrive/My Drive/Colab Notebooks/데이터분석 /bus_ridetime_dacon/12회 대회/submission_제출양식.csv')\n",
        "submission=pd.read_csv('/content/submission_제출양식.csv')\n",
        "\n",
        "submission"
      ],
      "execution_count": 0,
      "outputs": [
        {
          "output_type": "execute_result",
          "data": {
            "text/html": [
              "<div>\n",
              "<style scoped>\n",
              "    .dataframe tbody tr th:only-of-type {\n",
              "        vertical-align: middle;\n",
              "    }\n",
              "\n",
              "    .dataframe tbody tr th {\n",
              "        vertical-align: top;\n",
              "    }\n",
              "\n",
              "    .dataframe thead th {\n",
              "        text-align: right;\n",
              "    }\n",
              "</style>\n",
              "<table border=\"1\" class=\"dataframe\">\n",
              "  <thead>\n",
              "    <tr style=\"text-align: right;\">\n",
              "      <th></th>\n",
              "      <th>id</th>\n",
              "      <th>next_arrive_time</th>\n",
              "    </tr>\n",
              "  </thead>\n",
              "  <tbody>\n",
              "    <tr>\n",
              "      <th>0</th>\n",
              "      <td>210457</td>\n",
              "      <td>0</td>\n",
              "    </tr>\n",
              "    <tr>\n",
              "      <th>1</th>\n",
              "      <td>210458</td>\n",
              "      <td>0</td>\n",
              "    </tr>\n",
              "    <tr>\n",
              "      <th>2</th>\n",
              "      <td>210459</td>\n",
              "      <td>0</td>\n",
              "    </tr>\n",
              "    <tr>\n",
              "      <th>3</th>\n",
              "      <td>210460</td>\n",
              "      <td>0</td>\n",
              "    </tr>\n",
              "    <tr>\n",
              "      <th>4</th>\n",
              "      <td>210461</td>\n",
              "      <td>0</td>\n",
              "    </tr>\n",
              "    <tr>\n",
              "      <th>...</th>\n",
              "      <td>...</td>\n",
              "      <td>...</td>\n",
              "    </tr>\n",
              "    <tr>\n",
              "      <th>91769</th>\n",
              "      <td>302350</td>\n",
              "      <td>0</td>\n",
              "    </tr>\n",
              "    <tr>\n",
              "      <th>91770</th>\n",
              "      <td>302351</td>\n",
              "      <td>0</td>\n",
              "    </tr>\n",
              "    <tr>\n",
              "      <th>91771</th>\n",
              "      <td>302352</td>\n",
              "      <td>0</td>\n",
              "    </tr>\n",
              "    <tr>\n",
              "      <th>91772</th>\n",
              "      <td>302353</td>\n",
              "      <td>0</td>\n",
              "    </tr>\n",
              "    <tr>\n",
              "      <th>91773</th>\n",
              "      <td>302354</td>\n",
              "      <td>0</td>\n",
              "    </tr>\n",
              "  </tbody>\n",
              "</table>\n",
              "<p>91774 rows × 2 columns</p>\n",
              "</div>"
            ],
            "text/plain": [
              "           id  next_arrive_time\n",
              "0      210457                 0\n",
              "1      210458                 0\n",
              "2      210459                 0\n",
              "3      210460                 0\n",
              "4      210461                 0\n",
              "...       ...               ...\n",
              "91769  302350                 0\n",
              "91770  302351                 0\n",
              "91771  302352                 0\n",
              "91772  302353                 0\n",
              "91773  302354                 0\n",
              "\n",
              "[91774 rows x 2 columns]"
            ]
          },
          "metadata": {
            "tags": []
          },
          "execution_count": 3
        }
      ]
    },
    {
      "cell_type": "code",
      "metadata": {
        "id": "A6hMmDot8tUq",
        "colab_type": "code",
        "outputId": "39dbdd5d-0f35-474e-e275-5191fd88066a",
        "colab": {
          "base_uri": "https://localhost:8080/",
          "height": 289
        }
      },
      "source": [
        "#train=pd.read_csv('/content/gdrive/My Drive/Colab Notebooks/데이터분석 /bus_ridetime_dacon/12회 대회/train.csv')\n",
        "train=pd.read_csv('/content/train.csv')\n",
        "\n",
        "train.head(5)"
      ],
      "execution_count": 0,
      "outputs": [
        {
          "output_type": "execute_result",
          "data": {
            "text/html": [
              "<div>\n",
              "<style scoped>\n",
              "    .dataframe tbody tr th:only-of-type {\n",
              "        vertical-align: middle;\n",
              "    }\n",
              "\n",
              "    .dataframe tbody tr th {\n",
              "        vertical-align: top;\n",
              "    }\n",
              "\n",
              "    .dataframe thead th {\n",
              "        text-align: right;\n",
              "    }\n",
              "</style>\n",
              "<table border=\"1\" class=\"dataframe\">\n",
              "  <thead>\n",
              "    <tr style=\"text-align: right;\">\n",
              "      <th></th>\n",
              "      <th>id</th>\n",
              "      <th>date</th>\n",
              "      <th>route_id</th>\n",
              "      <th>vh_id</th>\n",
              "      <th>route_nm</th>\n",
              "      <th>now_latitude</th>\n",
              "      <th>now_longitude</th>\n",
              "      <th>now_station</th>\n",
              "      <th>now_arrive_time</th>\n",
              "      <th>distance</th>\n",
              "      <th>next_station</th>\n",
              "      <th>next_latitude</th>\n",
              "      <th>next_longitude</th>\n",
              "      <th>next_arrive_time</th>\n",
              "    </tr>\n",
              "  </thead>\n",
              "  <tbody>\n",
              "    <tr>\n",
              "      <th>0</th>\n",
              "      <td>0</td>\n",
              "      <td>2019-10-15</td>\n",
              "      <td>405136001</td>\n",
              "      <td>7997025</td>\n",
              "      <td>360-1</td>\n",
              "      <td>33.456267</td>\n",
              "      <td>126.551750</td>\n",
              "      <td>제주대학교입구</td>\n",
              "      <td>06시</td>\n",
              "      <td>266.0</td>\n",
              "      <td>제대마을</td>\n",
              "      <td>33.457724</td>\n",
              "      <td>126.554014</td>\n",
              "      <td>24</td>\n",
              "    </tr>\n",
              "    <tr>\n",
              "      <th>1</th>\n",
              "      <td>1</td>\n",
              "      <td>2019-10-15</td>\n",
              "      <td>405136001</td>\n",
              "      <td>7997025</td>\n",
              "      <td>360-1</td>\n",
              "      <td>33.457724</td>\n",
              "      <td>126.554014</td>\n",
              "      <td>제대마을</td>\n",
              "      <td>06시</td>\n",
              "      <td>333.0</td>\n",
              "      <td>제대아파트</td>\n",
              "      <td>33.458783</td>\n",
              "      <td>126.557353</td>\n",
              "      <td>36</td>\n",
              "    </tr>\n",
              "    <tr>\n",
              "      <th>2</th>\n",
              "      <td>2</td>\n",
              "      <td>2019-10-15</td>\n",
              "      <td>405136001</td>\n",
              "      <td>7997025</td>\n",
              "      <td>360-1</td>\n",
              "      <td>33.458783</td>\n",
              "      <td>126.557353</td>\n",
              "      <td>제대아파트</td>\n",
              "      <td>06시</td>\n",
              "      <td>415.0</td>\n",
              "      <td>제주대학교</td>\n",
              "      <td>33.459893</td>\n",
              "      <td>126.561624</td>\n",
              "      <td>40</td>\n",
              "    </tr>\n",
              "    <tr>\n",
              "      <th>3</th>\n",
              "      <td>3</td>\n",
              "      <td>2019-10-15</td>\n",
              "      <td>405136001</td>\n",
              "      <td>7997025</td>\n",
              "      <td>360-1</td>\n",
              "      <td>33.479705</td>\n",
              "      <td>126.543811</td>\n",
              "      <td>남국원(아라방면)</td>\n",
              "      <td>06시</td>\n",
              "      <td>578.0</td>\n",
              "      <td>제주여자중고등학교(아라방면)</td>\n",
              "      <td>33.484860</td>\n",
              "      <td>126.542928</td>\n",
              "      <td>42</td>\n",
              "    </tr>\n",
              "    <tr>\n",
              "      <th>4</th>\n",
              "      <td>4</td>\n",
              "      <td>2019-10-15</td>\n",
              "      <td>405136001</td>\n",
              "      <td>7997025</td>\n",
              "      <td>360-1</td>\n",
              "      <td>33.485662</td>\n",
              "      <td>126.494923</td>\n",
              "      <td>도호동</td>\n",
              "      <td>07시</td>\n",
              "      <td>374.0</td>\n",
              "      <td>은남동</td>\n",
              "      <td>33.485822</td>\n",
              "      <td>126.490897</td>\n",
              "      <td>64</td>\n",
              "    </tr>\n",
              "  </tbody>\n",
              "</table>\n",
              "</div>"
            ],
            "text/plain": [
              "   id        date   route_id  ...  next_latitude next_longitude  next_arrive_time\n",
              "0   0  2019-10-15  405136001  ...      33.457724     126.554014                24\n",
              "1   1  2019-10-15  405136001  ...      33.458783     126.557353                36\n",
              "2   2  2019-10-15  405136001  ...      33.459893     126.561624                40\n",
              "3   3  2019-10-15  405136001  ...      33.484860     126.542928                42\n",
              "4   4  2019-10-15  405136001  ...      33.485822     126.490897                64\n",
              "\n",
              "[5 rows x 14 columns]"
            ]
          },
          "metadata": {
            "tags": []
          },
          "execution_count": 4
        }
      ]
    },
    {
      "cell_type": "code",
      "metadata": {
        "id": "bMD2gfk68oyp",
        "colab_type": "code",
        "outputId": "b37d2828-b24b-42f6-fb70-7a8808df5e1d",
        "colab": {
          "base_uri": "https://localhost:8080/",
          "height": 419
        }
      },
      "source": [
        "#test=pd.read_csv('/content/gdrive/My Drive/Colab Notebooks/데이터분석 /bus_ridetime_dacon/12회 대회/test.csv')\n",
        "test=pd.read_csv('/content/test.csv')\n",
        "\n",
        "test"
      ],
      "execution_count": 0,
      "outputs": [
        {
          "output_type": "execute_result",
          "data": {
            "text/html": [
              "<div>\n",
              "<style scoped>\n",
              "    .dataframe tbody tr th:only-of-type {\n",
              "        vertical-align: middle;\n",
              "    }\n",
              "\n",
              "    .dataframe tbody tr th {\n",
              "        vertical-align: top;\n",
              "    }\n",
              "\n",
              "    .dataframe thead th {\n",
              "        text-align: right;\n",
              "    }\n",
              "</style>\n",
              "<table border=\"1\" class=\"dataframe\">\n",
              "  <thead>\n",
              "    <tr style=\"text-align: right;\">\n",
              "      <th></th>\n",
              "      <th>id</th>\n",
              "      <th>date</th>\n",
              "      <th>route_id</th>\n",
              "      <th>vh_id</th>\n",
              "      <th>route_nm</th>\n",
              "      <th>now_latitude</th>\n",
              "      <th>now_longitude</th>\n",
              "      <th>now_station</th>\n",
              "      <th>now_arrive_time</th>\n",
              "      <th>distance</th>\n",
              "      <th>next_station</th>\n",
              "      <th>next_latitude</th>\n",
              "      <th>next_longitude</th>\n",
              "    </tr>\n",
              "  </thead>\n",
              "  <tbody>\n",
              "    <tr>\n",
              "      <th>0</th>\n",
              "      <td>210457</td>\n",
              "      <td>2019-10-29</td>\n",
              "      <td>405136001</td>\n",
              "      <td>7997025</td>\n",
              "      <td>360-1</td>\n",
              "      <td>33.457724</td>\n",
              "      <td>126.554014</td>\n",
              "      <td>제대마을</td>\n",
              "      <td>07시</td>\n",
              "      <td>333.0</td>\n",
              "      <td>제대아파트</td>\n",
              "      <td>33.458783</td>\n",
              "      <td>126.557353</td>\n",
              "    </tr>\n",
              "    <tr>\n",
              "      <th>1</th>\n",
              "      <td>210458</td>\n",
              "      <td>2019-10-29</td>\n",
              "      <td>405136001</td>\n",
              "      <td>7997025</td>\n",
              "      <td>360-1</td>\n",
              "      <td>33.458783</td>\n",
              "      <td>126.557353</td>\n",
              "      <td>제대아파트</td>\n",
              "      <td>07시</td>\n",
              "      <td>415.0</td>\n",
              "      <td>제주대학교</td>\n",
              "      <td>33.459893</td>\n",
              "      <td>126.561624</td>\n",
              "    </tr>\n",
              "    <tr>\n",
              "      <th>2</th>\n",
              "      <td>210459</td>\n",
              "      <td>2019-10-29</td>\n",
              "      <td>405136001</td>\n",
              "      <td>7997025</td>\n",
              "      <td>360-1</td>\n",
              "      <td>33.478867</td>\n",
              "      <td>126.483833</td>\n",
              "      <td>한라중학교/부영아파트</td>\n",
              "      <td>08시</td>\n",
              "      <td>417.0</td>\n",
              "      <td>대림2차아파트</td>\n",
              "      <td>33.478850</td>\n",
              "      <td>126.488350</td>\n",
              "    </tr>\n",
              "    <tr>\n",
              "      <th>3</th>\n",
              "      <td>210460</td>\n",
              "      <td>2019-10-29</td>\n",
              "      <td>405136001</td>\n",
              "      <td>7997025</td>\n",
              "      <td>360-1</td>\n",
              "      <td>33.478850</td>\n",
              "      <td>126.488350</td>\n",
              "      <td>대림2차아파트</td>\n",
              "      <td>08시</td>\n",
              "      <td>334.0</td>\n",
              "      <td>연동대림1차아파트</td>\n",
              "      <td>33.480700</td>\n",
              "      <td>126.489933</td>\n",
              "    </tr>\n",
              "    <tr>\n",
              "      <th>4</th>\n",
              "      <td>210461</td>\n",
              "      <td>2019-10-29</td>\n",
              "      <td>405136001</td>\n",
              "      <td>7997025</td>\n",
              "      <td>360-1</td>\n",
              "      <td>33.480700</td>\n",
              "      <td>126.489933</td>\n",
              "      <td>연동대림1차아파트</td>\n",
              "      <td>08시</td>\n",
              "      <td>550.0</td>\n",
              "      <td>케이티앤지</td>\n",
              "      <td>33.482077</td>\n",
              "      <td>126.485355</td>\n",
              "    </tr>\n",
              "    <tr>\n",
              "      <th>...</th>\n",
              "      <td>...</td>\n",
              "      <td>...</td>\n",
              "      <td>...</td>\n",
              "      <td>...</td>\n",
              "      <td>...</td>\n",
              "      <td>...</td>\n",
              "      <td>...</td>\n",
              "      <td>...</td>\n",
              "      <td>...</td>\n",
              "      <td>...</td>\n",
              "      <td>...</td>\n",
              "      <td>...</td>\n",
              "      <td>...</td>\n",
              "    </tr>\n",
              "    <tr>\n",
              "      <th>91769</th>\n",
              "      <td>302350</td>\n",
              "      <td>2019-11-05</td>\n",
              "      <td>405328102</td>\n",
              "      <td>7983486</td>\n",
              "      <td>281-2</td>\n",
              "      <td>33.493625</td>\n",
              "      <td>126.534764</td>\n",
              "      <td>제주지방법원(광양방면)</td>\n",
              "      <td>20시</td>\n",
              "      <td>272.0</td>\n",
              "      <td>고산동산(광양방면)</td>\n",
              "      <td>33.495540</td>\n",
              "      <td>126.532907</td>\n",
              "    </tr>\n",
              "    <tr>\n",
              "      <th>91770</th>\n",
              "      <td>302351</td>\n",
              "      <td>2019-11-05</td>\n",
              "      <td>405328102</td>\n",
              "      <td>7983486</td>\n",
              "      <td>281-2</td>\n",
              "      <td>33.495540</td>\n",
              "      <td>126.532907</td>\n",
              "      <td>고산동산(광양방면)</td>\n",
              "      <td>20시</td>\n",
              "      <td>447.0</td>\n",
              "      <td>제주시청(광양방면)</td>\n",
              "      <td>33.498925</td>\n",
              "      <td>126.530351</td>\n",
              "    </tr>\n",
              "    <tr>\n",
              "      <th>91771</th>\n",
              "      <td>302352</td>\n",
              "      <td>2019-11-05</td>\n",
              "      <td>405328102</td>\n",
              "      <td>7983486</td>\n",
              "      <td>281-2</td>\n",
              "      <td>33.498925</td>\n",
              "      <td>126.530351</td>\n",
              "      <td>제주시청(광양방면)</td>\n",
              "      <td>20시</td>\n",
              "      <td>418.0</td>\n",
              "      <td>광양사거리</td>\n",
              "      <td>33.500473</td>\n",
              "      <td>126.527103</td>\n",
              "    </tr>\n",
              "    <tr>\n",
              "      <th>91772</th>\n",
              "      <td>302353</td>\n",
              "      <td>2019-11-05</td>\n",
              "      <td>405328102</td>\n",
              "      <td>7983486</td>\n",
              "      <td>281-2</td>\n",
              "      <td>33.500473</td>\n",
              "      <td>126.527103</td>\n",
              "      <td>광양사거리</td>\n",
              "      <td>20시</td>\n",
              "      <td>140.0</td>\n",
              "      <td>탐라장애인 종합복지관</td>\n",
              "      <td>33.500228</td>\n",
              "      <td>126.525625</td>\n",
              "    </tr>\n",
              "    <tr>\n",
              "      <th>91773</th>\n",
              "      <td>302354</td>\n",
              "      <td>2019-11-05</td>\n",
              "      <td>405328102</td>\n",
              "      <td>7983486</td>\n",
              "      <td>281-2</td>\n",
              "      <td>33.499916</td>\n",
              "      <td>126.521348</td>\n",
              "      <td>용천마을</td>\n",
              "      <td>20시</td>\n",
              "      <td>541.0</td>\n",
              "      <td>제주버스터미널(종점)</td>\n",
              "      <td>33.499190</td>\n",
              "      <td>126.516324</td>\n",
              "    </tr>\n",
              "  </tbody>\n",
              "</table>\n",
              "<p>91774 rows × 13 columns</p>\n",
              "</div>"
            ],
            "text/plain": [
              "           id        date  ...  next_latitude  next_longitude\n",
              "0      210457  2019-10-29  ...      33.458783      126.557353\n",
              "1      210458  2019-10-29  ...      33.459893      126.561624\n",
              "2      210459  2019-10-29  ...      33.478850      126.488350\n",
              "3      210460  2019-10-29  ...      33.480700      126.489933\n",
              "4      210461  2019-10-29  ...      33.482077      126.485355\n",
              "...       ...         ...  ...            ...             ...\n",
              "91769  302350  2019-11-05  ...      33.495540      126.532907\n",
              "91770  302351  2019-11-05  ...      33.498925      126.530351\n",
              "91771  302352  2019-11-05  ...      33.500473      126.527103\n",
              "91772  302353  2019-11-05  ...      33.500228      126.525625\n",
              "91773  302354  2019-11-05  ...      33.499190      126.516324\n",
              "\n",
              "[91774 rows x 13 columns]"
            ]
          },
          "metadata": {
            "tags": []
          },
          "execution_count": 5
        }
      ]
    },
    {
      "cell_type": "code",
      "metadata": {
        "id": "an2B4CRyU_Rv",
        "colab_type": "code",
        "outputId": "6085bbf0-0f16-45bd-eef6-9eb2b52a4a1d",
        "colab": {
          "base_uri": "https://localhost:8080/",
          "height": 204
        }
      },
      "source": [
        "test.head()"
      ],
      "execution_count": 0,
      "outputs": [
        {
          "output_type": "execute_result",
          "data": {
            "text/html": [
              "<div>\n",
              "<style scoped>\n",
              "    .dataframe tbody tr th:only-of-type {\n",
              "        vertical-align: middle;\n",
              "    }\n",
              "\n",
              "    .dataframe tbody tr th {\n",
              "        vertical-align: top;\n",
              "    }\n",
              "\n",
              "    .dataframe thead th {\n",
              "        text-align: right;\n",
              "    }\n",
              "</style>\n",
              "<table border=\"1\" class=\"dataframe\">\n",
              "  <thead>\n",
              "    <tr style=\"text-align: right;\">\n",
              "      <th></th>\n",
              "      <th>id</th>\n",
              "      <th>date</th>\n",
              "      <th>route_id</th>\n",
              "      <th>vh_id</th>\n",
              "      <th>route_nm</th>\n",
              "      <th>now_latitude</th>\n",
              "      <th>now_longitude</th>\n",
              "      <th>now_station</th>\n",
              "      <th>now_arrive_time</th>\n",
              "      <th>distance</th>\n",
              "      <th>next_station</th>\n",
              "      <th>next_latitude</th>\n",
              "      <th>next_longitude</th>\n",
              "    </tr>\n",
              "  </thead>\n",
              "  <tbody>\n",
              "    <tr>\n",
              "      <th>0</th>\n",
              "      <td>210457</td>\n",
              "      <td>2019-10-29</td>\n",
              "      <td>405136001</td>\n",
              "      <td>7997025</td>\n",
              "      <td>360-1</td>\n",
              "      <td>33.457724</td>\n",
              "      <td>126.554014</td>\n",
              "      <td>제대마을</td>\n",
              "      <td>07시</td>\n",
              "      <td>333.0</td>\n",
              "      <td>제대아파트</td>\n",
              "      <td>33.458783</td>\n",
              "      <td>126.557353</td>\n",
              "    </tr>\n",
              "    <tr>\n",
              "      <th>1</th>\n",
              "      <td>210458</td>\n",
              "      <td>2019-10-29</td>\n",
              "      <td>405136001</td>\n",
              "      <td>7997025</td>\n",
              "      <td>360-1</td>\n",
              "      <td>33.458783</td>\n",
              "      <td>126.557353</td>\n",
              "      <td>제대아파트</td>\n",
              "      <td>07시</td>\n",
              "      <td>415.0</td>\n",
              "      <td>제주대학교</td>\n",
              "      <td>33.459893</td>\n",
              "      <td>126.561624</td>\n",
              "    </tr>\n",
              "    <tr>\n",
              "      <th>2</th>\n",
              "      <td>210459</td>\n",
              "      <td>2019-10-29</td>\n",
              "      <td>405136001</td>\n",
              "      <td>7997025</td>\n",
              "      <td>360-1</td>\n",
              "      <td>33.478867</td>\n",
              "      <td>126.483833</td>\n",
              "      <td>한라중학교/부영아파트</td>\n",
              "      <td>08시</td>\n",
              "      <td>417.0</td>\n",
              "      <td>대림2차아파트</td>\n",
              "      <td>33.478850</td>\n",
              "      <td>126.488350</td>\n",
              "    </tr>\n",
              "    <tr>\n",
              "      <th>3</th>\n",
              "      <td>210460</td>\n",
              "      <td>2019-10-29</td>\n",
              "      <td>405136001</td>\n",
              "      <td>7997025</td>\n",
              "      <td>360-1</td>\n",
              "      <td>33.478850</td>\n",
              "      <td>126.488350</td>\n",
              "      <td>대림2차아파트</td>\n",
              "      <td>08시</td>\n",
              "      <td>334.0</td>\n",
              "      <td>연동대림1차아파트</td>\n",
              "      <td>33.480700</td>\n",
              "      <td>126.489933</td>\n",
              "    </tr>\n",
              "    <tr>\n",
              "      <th>4</th>\n",
              "      <td>210461</td>\n",
              "      <td>2019-10-29</td>\n",
              "      <td>405136001</td>\n",
              "      <td>7997025</td>\n",
              "      <td>360-1</td>\n",
              "      <td>33.480700</td>\n",
              "      <td>126.489933</td>\n",
              "      <td>연동대림1차아파트</td>\n",
              "      <td>08시</td>\n",
              "      <td>550.0</td>\n",
              "      <td>케이티앤지</td>\n",
              "      <td>33.482077</td>\n",
              "      <td>126.485355</td>\n",
              "    </tr>\n",
              "  </tbody>\n",
              "</table>\n",
              "</div>"
            ],
            "text/plain": [
              "       id        date   route_id  ...  next_station next_latitude  next_longitude\n",
              "0  210457  2019-10-29  405136001  ...         제대아파트     33.458783      126.557353\n",
              "1  210458  2019-10-29  405136001  ...         제주대학교     33.459893      126.561624\n",
              "2  210459  2019-10-29  405136001  ...       대림2차아파트     33.478850      126.488350\n",
              "3  210460  2019-10-29  405136001  ...     연동대림1차아파트     33.480700      126.489933\n",
              "4  210461  2019-10-29  405136001  ...         케이티앤지     33.482077      126.485355\n",
              "\n",
              "[5 rows x 13 columns]"
            ]
          },
          "metadata": {
            "tags": []
          },
          "execution_count": 6
        }
      ]
    },
    {
      "cell_type": "markdown",
      "metadata": {
        "id": "yQDZLXlUB_Ny",
        "colab_type": "text"
      },
      "source": [
        "정류장명 인코딩 한글로 되어있기에 숫자로 바꿔준다\n"
      ]
    },
    {
      "cell_type": "code",
      "metadata": {
        "id": "AaEpQU7TB-lT",
        "colab_type": "code",
        "outputId": "4fb17d82-e769-4614-e30a-65e476021623",
        "colab": {
          "base_uri": "https://localhost:8080/",
          "height": 204
        }
      },
      "source": [
        "station_encoder = LabelEncoder() # 인코더 생성\n",
        "_station = list(train['now_station'].values) + list(train['next_station'].values)+list(test['now_station'].values) + list(test['next_station'].values)\n",
        "\n",
        "\n",
        " # train_data 의 모든 정류장 이름\n",
        "station_set = set(_station)\n",
        "\n",
        "station_encoder.fit(list(station_set)) # 인코딩\n",
        "\n",
        "# 모든 학습, 시험 데이터의 정류장 정보 치환\n",
        "train['now_station'] = station_encoder.transform(train['now_station'])\n",
        "train['next_station'] = station_encoder.transform(train['next_station'])\n",
        "test['now_station'] = station_encoder.transform(test['now_station'])\n",
        "test['next_station'] = station_encoder.transform(test['next_station'])\n",
        "test.head()"
      ],
      "execution_count": 0,
      "outputs": [
        {
          "output_type": "execute_result",
          "data": {
            "text/html": [
              "<div>\n",
              "<style scoped>\n",
              "    .dataframe tbody tr th:only-of-type {\n",
              "        vertical-align: middle;\n",
              "    }\n",
              "\n",
              "    .dataframe tbody tr th {\n",
              "        vertical-align: top;\n",
              "    }\n",
              "\n",
              "    .dataframe thead th {\n",
              "        text-align: right;\n",
              "    }\n",
              "</style>\n",
              "<table border=\"1\" class=\"dataframe\">\n",
              "  <thead>\n",
              "    <tr style=\"text-align: right;\">\n",
              "      <th></th>\n",
              "      <th>id</th>\n",
              "      <th>date</th>\n",
              "      <th>route_id</th>\n",
              "      <th>vh_id</th>\n",
              "      <th>route_nm</th>\n",
              "      <th>now_latitude</th>\n",
              "      <th>now_longitude</th>\n",
              "      <th>now_station</th>\n",
              "      <th>now_arrive_time</th>\n",
              "      <th>distance</th>\n",
              "      <th>next_station</th>\n",
              "      <th>next_latitude</th>\n",
              "      <th>next_longitude</th>\n",
              "    </tr>\n",
              "  </thead>\n",
              "  <tbody>\n",
              "    <tr>\n",
              "      <th>0</th>\n",
              "      <td>210457</td>\n",
              "      <td>2019-10-29</td>\n",
              "      <td>405136001</td>\n",
              "      <td>7997025</td>\n",
              "      <td>360-1</td>\n",
              "      <td>33.457724</td>\n",
              "      <td>126.554014</td>\n",
              "      <td>227</td>\n",
              "      <td>07시</td>\n",
              "      <td>333.0</td>\n",
              "      <td>228</td>\n",
              "      <td>33.458783</td>\n",
              "      <td>126.557353</td>\n",
              "    </tr>\n",
              "    <tr>\n",
              "      <th>1</th>\n",
              "      <td>210458</td>\n",
              "      <td>2019-10-29</td>\n",
              "      <td>405136001</td>\n",
              "      <td>7997025</td>\n",
              "      <td>360-1</td>\n",
              "      <td>33.458783</td>\n",
              "      <td>126.557353</td>\n",
              "      <td>228</td>\n",
              "      <td>07시</td>\n",
              "      <td>415.0</td>\n",
              "      <td>235</td>\n",
              "      <td>33.459893</td>\n",
              "      <td>126.561624</td>\n",
              "    </tr>\n",
              "    <tr>\n",
              "      <th>2</th>\n",
              "      <td>210459</td>\n",
              "      <td>2019-10-29</td>\n",
              "      <td>405136001</td>\n",
              "      <td>7997025</td>\n",
              "      <td>360-1</td>\n",
              "      <td>33.478867</td>\n",
              "      <td>126.483833</td>\n",
              "      <td>323</td>\n",
              "      <td>08시</td>\n",
              "      <td>417.0</td>\n",
              "      <td>59</td>\n",
              "      <td>33.478850</td>\n",
              "      <td>126.488350</td>\n",
              "    </tr>\n",
              "    <tr>\n",
              "      <th>3</th>\n",
              "      <td>210460</td>\n",
              "      <td>2019-10-29</td>\n",
              "      <td>405136001</td>\n",
              "      <td>7997025</td>\n",
              "      <td>360-1</td>\n",
              "      <td>33.478850</td>\n",
              "      <td>126.488350</td>\n",
              "      <td>59</td>\n",
              "      <td>08시</td>\n",
              "      <td>334.0</td>\n",
              "      <td>183</td>\n",
              "      <td>33.480700</td>\n",
              "      <td>126.489933</td>\n",
              "    </tr>\n",
              "    <tr>\n",
              "      <th>4</th>\n",
              "      <td>210461</td>\n",
              "      <td>2019-10-29</td>\n",
              "      <td>405136001</td>\n",
              "      <td>7997025</td>\n",
              "      <td>360-1</td>\n",
              "      <td>33.480700</td>\n",
              "      <td>126.489933</td>\n",
              "      <td>183</td>\n",
              "      <td>08시</td>\n",
              "      <td>550.0</td>\n",
              "      <td>285</td>\n",
              "      <td>33.482077</td>\n",
              "      <td>126.485355</td>\n",
              "    </tr>\n",
              "  </tbody>\n",
              "</table>\n",
              "</div>"
            ],
            "text/plain": [
              "       id        date   route_id  ...  next_station next_latitude  next_longitude\n",
              "0  210457  2019-10-29  405136001  ...           228     33.458783      126.557353\n",
              "1  210458  2019-10-29  405136001  ...           235     33.459893      126.561624\n",
              "2  210459  2019-10-29  405136001  ...            59     33.478850      126.488350\n",
              "3  210460  2019-10-29  405136001  ...           183     33.480700      126.489933\n",
              "4  210461  2019-10-29  405136001  ...           285     33.482077      126.485355\n",
              "\n",
              "[5 rows x 13 columns]"
            ]
          },
          "metadata": {
            "tags": []
          },
          "execution_count": 7
        }
      ]
    },
    {
      "cell_type": "code",
      "metadata": {
        "id": "baDvuEn7S7f4",
        "colab_type": "code",
        "colab": {}
      },
      "source": [
        ""
      ],
      "execution_count": 0,
      "outputs": []
    },
    {
      "cell_type": "markdown",
      "metadata": {
        "id": "fmXtMXg__ot5",
        "colab_type": "text"
      },
      "source": [
        "now_arrivetime 분포확인"
      ]
    },
    {
      "cell_type": "code",
      "metadata": {
        "id": "sCyZ3VQT_B8M",
        "colab_type": "code",
        "outputId": "97d1ebba-c875-4c69-ce97-b855bdfa871f",
        "colab": {
          "base_uri": "https://localhost:8080/",
          "height": 337
        }
      },
      "source": [
        "train['now_arrive_time'] .hist()"
      ],
      "execution_count": 0,
      "outputs": [
        {
          "output_type": "execute_result",
          "data": {
            "text/plain": [
              "<matplotlib.axes._subplots.AxesSubplot at 0x7fade5b6d9b0>"
            ]
          },
          "metadata": {
            "tags": []
          },
          "execution_count": 8
        },
        {
          "output_type": "stream",
          "text": [
            "/usr/local/lib/python3.6/dist-packages/matplotlib/backends/backend_agg.py:211: RuntimeWarning: Glyph 49884 missing from current font.\n",
            "  font.set_text(s, 0.0, flags=flags)\n",
            "/usr/local/lib/python3.6/dist-packages/matplotlib/backends/backend_agg.py:180: RuntimeWarning: Glyph 49884 missing from current font.\n",
            "  font.set_text(s, 0, flags=flags)\n"
          ],
          "name": "stderr"
        },
        {
          "output_type": "display_data",
          "data": {
            "image/png": "[encoded data removed]",
            "text/plain": [
              "<Figure size 432x288 with 1 Axes>"
            ]
          },
          "metadata": {
            "tags": []
          }
        }
      ]
    },
    {
      "cell_type": "markdown",
      "metadata": {
        "id": "edL9v4og_rZy",
        "colab_type": "text"
      },
      "source": [
        "next_arrive_time 분포확인\n"
      ]
    },
    {
      "cell_type": "code",
      "metadata": {
        "id": "bwkJ06-1_NGX",
        "colab_type": "code",
        "outputId": "c9a807d1-1656-4232-cfb3-10722e255ace",
        "colab": {
          "base_uri": "https://localhost:8080/",
          "height": 283
        }
      },
      "source": [
        "train['next_arrive_time'].hist()"
      ],
      "execution_count": 0,
      "outputs": [
        {
          "output_type": "execute_result",
          "data": {
            "text/plain": [
              "<matplotlib.axes._subplots.AxesSubplot at 0x7fade55aca58>"
            ]
          },
          "metadata": {
            "tags": []
          },
          "execution_count": 9
        },
        {
          "output_type": "display_data",
          "data": {
            "image/png": "[encoded data removed]",
            "text/plain": [
              "<Figure size 432x288 with 1 Axes>"
            ]
          },
          "metadata": {
            "tags": []
          }
        }
      ]
    },
    {
      "cell_type": "markdown",
      "metadata": {
        "id": "p5Y0Cu_y_75s",
        "colab_type": "text"
      },
      "source": [
        "신호시간 영향 분석\n",
        "\n",
        "변동계수(coefficient of variation): 표준편차/평균\n",
        "\n"
      ]
    },
    {
      "cell_type": "code",
      "metadata": {
        "id": "Ytqy3bJN_uQX",
        "colab_type": "code",
        "outputId": "b7c52587-b83a-4986-bdff-60ebb0c78700",
        "colab": {
          "base_uri": "https://localhost:8080/",
          "height": 283
        }
      },
      "source": [
        "train['vh_id'].hist() #7997025번 버스 번호가 많음"
      ],
      "execution_count": 0,
      "outputs": [
        {
          "output_type": "execute_result",
          "data": {
            "text/plain": [
              "<matplotlib.axes._subplots.AxesSubplot at 0x7fade557c940>"
            ]
          },
          "metadata": {
            "tags": []
          },
          "execution_count": 10
        },
        {
          "output_type": "display_data",
          "data": {
            "image/png": "[encoded data removed]",
            "text/plain": [
              "<Figure size 432x288 with 1 Axes>"
            ]
          },
          "metadata": {
            "tags": []
          }
        }
      ]
    },
    {
      "cell_type": "code",
      "metadata": {
        "id": "qUtxzoDbAbCF",
        "colab_type": "code",
        "colab": {}
      },
      "source": [
        "# _station = list(train['now_station'].values) + list(train['next_station'].values) # train_data 의 모든 정류장 이름\n",
        "\n",
        "# print(len(_station))\n",
        "# _station\n",
        "\n",
        "# a=np.array(_station)\n",
        "# from pylab import*\n",
        "# print(a)\n",
        "\n",
        "# plot(a)\n",
        "# show()"
      ],
      "execution_count": 0,
      "outputs": []
    },
    {
      "cell_type": "code",
      "metadata": {
        "id": "2WNRVKlwISHa",
        "colab_type": "code",
        "colab": {}
      },
      "source": [
        "# a=train[['now_station','next_station']]\n",
        "# print(a)\n",
        "# max(a,key=a.count) #group_by로 2개뽑아내기 or  unique coun"
      ],
      "execution_count": 0,
      "outputs": []
    },
    {
      "cell_type": "code",
      "metadata": {
        "id": "Xgh2IUMaLjhC",
        "colab_type": "code",
        "outputId": "32903bc0-2c6d-4473-e2d5-ce6573abe4c0",
        "colab": {
          "base_uri": "https://localhost:8080/",
          "height": 204
        }
      },
      "source": [
        "train.head(5)"
      ],
      "execution_count": 0,
      "outputs": [
        {
          "output_type": "execute_result",
          "data": {
            "text/html": [
              "<div>\n",
              "<style scoped>\n",
              "    .dataframe tbody tr th:only-of-type {\n",
              "        vertical-align: middle;\n",
              "    }\n",
              "\n",
              "    .dataframe tbody tr th {\n",
              "        vertical-align: top;\n",
              "    }\n",
              "\n",
              "    .dataframe thead th {\n",
              "        text-align: right;\n",
              "    }\n",
              "</style>\n",
              "<table border=\"1\" class=\"dataframe\">\n",
              "  <thead>\n",
              "    <tr style=\"text-align: right;\">\n",
              "      <th></th>\n",
              "      <th>id</th>\n",
              "      <th>date</th>\n",
              "      <th>route_id</th>\n",
              "      <th>vh_id</th>\n",
              "      <th>route_nm</th>\n",
              "      <th>now_latitude</th>\n",
              "      <th>now_longitude</th>\n",
              "      <th>now_station</th>\n",
              "      <th>now_arrive_time</th>\n",
              "      <th>distance</th>\n",
              "      <th>next_station</th>\n",
              "      <th>next_latitude</th>\n",
              "      <th>next_longitude</th>\n",
              "      <th>next_arrive_time</th>\n",
              "    </tr>\n",
              "  </thead>\n",
              "  <tbody>\n",
              "    <tr>\n",
              "      <th>0</th>\n",
              "      <td>0</td>\n",
              "      <td>2019-10-15</td>\n",
              "      <td>405136001</td>\n",
              "      <td>7997025</td>\n",
              "      <td>360-1</td>\n",
              "      <td>33.456267</td>\n",
              "      <td>126.551750</td>\n",
              "      <td>239</td>\n",
              "      <td>06시</td>\n",
              "      <td>266.0</td>\n",
              "      <td>227</td>\n",
              "      <td>33.457724</td>\n",
              "      <td>126.554014</td>\n",
              "      <td>24</td>\n",
              "    </tr>\n",
              "    <tr>\n",
              "      <th>1</th>\n",
              "      <td>1</td>\n",
              "      <td>2019-10-15</td>\n",
              "      <td>405136001</td>\n",
              "      <td>7997025</td>\n",
              "      <td>360-1</td>\n",
              "      <td>33.457724</td>\n",
              "      <td>126.554014</td>\n",
              "      <td>227</td>\n",
              "      <td>06시</td>\n",
              "      <td>333.0</td>\n",
              "      <td>228</td>\n",
              "      <td>33.458783</td>\n",
              "      <td>126.557353</td>\n",
              "      <td>36</td>\n",
              "    </tr>\n",
              "    <tr>\n",
              "      <th>2</th>\n",
              "      <td>2</td>\n",
              "      <td>2019-10-15</td>\n",
              "      <td>405136001</td>\n",
              "      <td>7997025</td>\n",
              "      <td>360-1</td>\n",
              "      <td>33.458783</td>\n",
              "      <td>126.557353</td>\n",
              "      <td>228</td>\n",
              "      <td>06시</td>\n",
              "      <td>415.0</td>\n",
              "      <td>235</td>\n",
              "      <td>33.459893</td>\n",
              "      <td>126.561624</td>\n",
              "      <td>40</td>\n",
              "    </tr>\n",
              "    <tr>\n",
              "      <th>3</th>\n",
              "      <td>3</td>\n",
              "      <td>2019-10-15</td>\n",
              "      <td>405136001</td>\n",
              "      <td>7997025</td>\n",
              "      <td>360-1</td>\n",
              "      <td>33.479705</td>\n",
              "      <td>126.543811</td>\n",
              "      <td>41</td>\n",
              "      <td>06시</td>\n",
              "      <td>578.0</td>\n",
              "      <td>249</td>\n",
              "      <td>33.484860</td>\n",
              "      <td>126.542928</td>\n",
              "      <td>42</td>\n",
              "    </tr>\n",
              "    <tr>\n",
              "      <th>4</th>\n",
              "      <td>4</td>\n",
              "      <td>2019-10-15</td>\n",
              "      <td>405136001</td>\n",
              "      <td>7997025</td>\n",
              "      <td>360-1</td>\n",
              "      <td>33.485662</td>\n",
              "      <td>126.494923</td>\n",
              "      <td>63</td>\n",
              "      <td>07시</td>\n",
              "      <td>374.0</td>\n",
              "      <td>221</td>\n",
              "      <td>33.485822</td>\n",
              "      <td>126.490897</td>\n",
              "      <td>64</td>\n",
              "    </tr>\n",
              "  </tbody>\n",
              "</table>\n",
              "</div>"
            ],
            "text/plain": [
              "   id        date   route_id  ...  next_latitude next_longitude  next_arrive_time\n",
              "0   0  2019-10-15  405136001  ...      33.457724     126.554014                24\n",
              "1   1  2019-10-15  405136001  ...      33.458783     126.557353                36\n",
              "2   2  2019-10-15  405136001  ...      33.459893     126.561624                40\n",
              "3   3  2019-10-15  405136001  ...      33.484860     126.542928                42\n",
              "4   4  2019-10-15  405136001  ...      33.485822     126.490897                64\n",
              "\n",
              "[5 rows x 14 columns]"
            ]
          },
          "metadata": {
            "tags": []
          },
          "execution_count": 13
        }
      ]
    },
    {
      "cell_type": "code",
      "metadata": {
        "id": "xA42AdMZQoEJ",
        "colab_type": "code",
        "colab": {}
      },
      "source": [
        "train=train.drop(['route_nm','next_latitude', 'next_longitude', \n",
        "                             'now_latitude', 'now_longitude'],axis=1)\n",
        "train=train.drop(['date','now_arrive_time'],axis=1)\n",
        "\n",
        "train=train.drop(['id'],axis=1)"
      ],
      "execution_count": 0,
      "outputs": []
    },
    {
      "cell_type": "code",
      "metadata": {
        "id": "7gRFHM4GRKL2",
        "colab_type": "code",
        "outputId": "17283753-c876-4a55-d7b8-9eea1c802873",
        "colab": {
          "base_uri": "https://localhost:8080/",
          "height": 204
        }
      },
      "source": [
        "train.head(5)"
      ],
      "execution_count": 0,
      "outputs": [
        {
          "output_type": "execute_result",
          "data": {
            "text/html": [
              "<div>\n",
              "<style scoped>\n",
              "    .dataframe tbody tr th:only-of-type {\n",
              "        vertical-align: middle;\n",
              "    }\n",
              "\n",
              "    .dataframe tbody tr th {\n",
              "        vertical-align: top;\n",
              "    }\n",
              "\n",
              "    .dataframe thead th {\n",
              "        text-align: right;\n",
              "    }\n",
              "</style>\n",
              "<table border=\"1\" class=\"dataframe\">\n",
              "  <thead>\n",
              "    <tr style=\"text-align: right;\">\n",
              "      <th></th>\n",
              "      <th>route_id</th>\n",
              "      <th>vh_id</th>\n",
              "      <th>now_station</th>\n",
              "      <th>distance</th>\n",
              "      <th>next_station</th>\n",
              "      <th>next_arrive_time</th>\n",
              "    </tr>\n",
              "  </thead>\n",
              "  <tbody>\n",
              "    <tr>\n",
              "      <th>0</th>\n",
              "      <td>405136001</td>\n",
              "      <td>7997025</td>\n",
              "      <td>239</td>\n",
              "      <td>266.0</td>\n",
              "      <td>227</td>\n",
              "      <td>24</td>\n",
              "    </tr>\n",
              "    <tr>\n",
              "      <th>1</th>\n",
              "      <td>405136001</td>\n",
              "      <td>7997025</td>\n",
              "      <td>227</td>\n",
              "      <td>333.0</td>\n",
              "      <td>228</td>\n",
              "      <td>36</td>\n",
              "    </tr>\n",
              "    <tr>\n",
              "      <th>2</th>\n",
              "      <td>405136001</td>\n",
              "      <td>7997025</td>\n",
              "      <td>228</td>\n",
              "      <td>415.0</td>\n",
              "      <td>235</td>\n",
              "      <td>40</td>\n",
              "    </tr>\n",
              "    <tr>\n",
              "      <th>3</th>\n",
              "      <td>405136001</td>\n",
              "      <td>7997025</td>\n",
              "      <td>41</td>\n",
              "      <td>578.0</td>\n",
              "      <td>249</td>\n",
              "      <td>42</td>\n",
              "    </tr>\n",
              "    <tr>\n",
              "      <th>4</th>\n",
              "      <td>405136001</td>\n",
              "      <td>7997025</td>\n",
              "      <td>63</td>\n",
              "      <td>374.0</td>\n",
              "      <td>221</td>\n",
              "      <td>64</td>\n",
              "    </tr>\n",
              "  </tbody>\n",
              "</table>\n",
              "</div>"
            ],
            "text/plain": [
              "    route_id    vh_id  now_station  distance  next_station  next_arrive_time\n",
              "0  405136001  7997025          239     266.0           227                24\n",
              "1  405136001  7997025          227     333.0           228                36\n",
              "2  405136001  7997025          228     415.0           235                40\n",
              "3  405136001  7997025           41     578.0           249                42\n",
              "4  405136001  7997025           63     374.0           221                64"
            ]
          },
          "metadata": {
            "tags": []
          },
          "execution_count": 15
        }
      ]
    },
    {
      "cell_type": "code",
      "metadata": {
        "id": "10rVy47SSMg7",
        "colab_type": "code",
        "colab": {}
      },
      "source": [
        "test=test.drop(['route_nm','next_latitude', 'next_longitude', \n",
        "                             'now_latitude', 'now_longitude','date','now_arrive_time'],axis=1)"
      ],
      "execution_count": 0,
      "outputs": []
    },
    {
      "cell_type": "code",
      "metadata": {
        "id": "AwtKHgTkSeEO",
        "colab_type": "code",
        "outputId": "f879b977-dbb0-4e41-b402-20024e2e1d24",
        "colab": {
          "base_uri": "https://localhost:8080/",
          "height": 204
        }
      },
      "source": [
        "test.head()"
      ],
      "execution_count": 0,
      "outputs": [
        {
          "output_type": "execute_result",
          "data": {
            "text/html": [
              "<div>\n",
              "<style scoped>\n",
              "    .dataframe tbody tr th:only-of-type {\n",
              "        vertical-align: middle;\n",
              "    }\n",
              "\n",
              "    .dataframe tbody tr th {\n",
              "        vertical-align: top;\n",
              "    }\n",
              "\n",
              "    .dataframe thead th {\n",
              "        text-align: right;\n",
              "    }\n",
              "</style>\n",
              "<table border=\"1\" class=\"dataframe\">\n",
              "  <thead>\n",
              "    <tr style=\"text-align: right;\">\n",
              "      <th></th>\n",
              "      <th>id</th>\n",
              "      <th>route_id</th>\n",
              "      <th>vh_id</th>\n",
              "      <th>now_station</th>\n",
              "      <th>distance</th>\n",
              "      <th>next_station</th>\n",
              "    </tr>\n",
              "  </thead>\n",
              "  <tbody>\n",
              "    <tr>\n",
              "      <th>0</th>\n",
              "      <td>210457</td>\n",
              "      <td>405136001</td>\n",
              "      <td>7997025</td>\n",
              "      <td>227</td>\n",
              "      <td>333.0</td>\n",
              "      <td>228</td>\n",
              "    </tr>\n",
              "    <tr>\n",
              "      <th>1</th>\n",
              "      <td>210458</td>\n",
              "      <td>405136001</td>\n",
              "      <td>7997025</td>\n",
              "      <td>228</td>\n",
              "      <td>415.0</td>\n",
              "      <td>235</td>\n",
              "    </tr>\n",
              "    <tr>\n",
              "      <th>2</th>\n",
              "      <td>210459</td>\n",
              "      <td>405136001</td>\n",
              "      <td>7997025</td>\n",
              "      <td>323</td>\n",
              "      <td>417.0</td>\n",
              "      <td>59</td>\n",
              "    </tr>\n",
              "    <tr>\n",
              "      <th>3</th>\n",
              "      <td>210460</td>\n",
              "      <td>405136001</td>\n",
              "      <td>7997025</td>\n",
              "      <td>59</td>\n",
              "      <td>334.0</td>\n",
              "      <td>183</td>\n",
              "    </tr>\n",
              "    <tr>\n",
              "      <th>4</th>\n",
              "      <td>210461</td>\n",
              "      <td>405136001</td>\n",
              "      <td>7997025</td>\n",
              "      <td>183</td>\n",
              "      <td>550.0</td>\n",
              "      <td>285</td>\n",
              "    </tr>\n",
              "  </tbody>\n",
              "</table>\n",
              "</div>"
            ],
            "text/plain": [
              "       id   route_id    vh_id  now_station  distance  next_station\n",
              "0  210457  405136001  7997025          227     333.0           228\n",
              "1  210458  405136001  7997025          228     415.0           235\n",
              "2  210459  405136001  7997025          323     417.0            59\n",
              "3  210460  405136001  7997025           59     334.0           183\n",
              "4  210461  405136001  7997025          183     550.0           285"
            ]
          },
          "metadata": {
            "tags": []
          },
          "execution_count": 17
        }
      ]
    },
    {
      "cell_type": "markdown",
      "metadata": {
        "id": "BpEAV1nxVcPT",
        "colab_type": "text"
      },
      "source": [
        "model train"
      ]
    },
    {
      "cell_type": "code",
      "metadata": {
        "id": "8G8jG3LYVbr9",
        "colab_type": "code",
        "colab": {}
      },
      "source": [
        "input=list(train.columns)\n",
        "\n",
        "input.remove('next_arrive_time')\n",
        "X_train=train[input]\n",
        "y_train=train['next_arrive_time']\n",
        "\n",
        "X_test=test[input]"
      ],
      "execution_count": 0,
      "outputs": []
    },
    {
      "cell_type": "code",
      "metadata": {
        "id": "tXSVHqUphtuz",
        "colab_type": "code",
        "colab": {}
      },
      "source": [
        "# from sklearn.model_selection import train_test_split\n",
        "# X_train, X_valid, y_train, y_valid = train_test_split(train_feature,train_target, test_size=0.2, random_state=100)"
      ],
      "execution_count": 0,
      "outputs": []
    },
    {
      "cell_type": "code",
      "metadata": {
        "id": "lgj5N9lMkdfE",
        "colab_type": "code",
        "colab": {}
      },
      "source": [
        "from sklearn.model_selection import GridSearchCV\n",
        "def get_best_params(model, params):\n",
        "    grid_model = GridSearchCV(model, param_grid=params, scoring='neg_mean_squared_error', cv=5)\n",
        "    grid_model.fit(X_train, y_train)\n",
        "    rmse = np.sqrt(-1* grid_model.best_score_)\n",
        "    print('최적 평균 RMSE 값:', np.round(rmse, 4))\n",
        "    print('최적 파라미터:', grid_model.best_params_)\n",
        "    \n",
        "    return grid_model.best_estimator_"
      ],
      "execution_count": 0,
      "outputs": []
    },
    {
      "cell_type": "code",
      "metadata": {
        "id": "YbkjOmfXkgmh",
        "colab_type": "code",
        "outputId": "ac112e3f-bf87-426e-d628-2a5670a2c90e",
        "colab": {
          "base_uri": "https://localhost:8080/",
          "height": 305
        }
      },
      "source": [
        "import xgboost as xgb\n",
        "\n",
        "# xgb_params 값을 바꾸어주며 learning_rate, max_depth 등 파라미터 성능 비교 시도했었음.\n",
        "xgb_params = {'n_estimators':[5000]}\n",
        "\n",
        "xgb_reg = xgb.XGBRegressor(colsample_bytree=0.8, silent=1, max_depth=5, learning_rate= 0.1, n_estimators=3300,\n",
        "                           random_state =7, nthread = -1, n_jobs=-1)\n",
        "\n",
        "best_xgb = get_best_params(xgb_reg, xgb_params)\n"
      ],
      "execution_count": 0,
      "outputs": [
        {
          "output_type": "stream",
          "text": [
            "/usr/local/lib/python3.6/dist-packages/xgboost/core.py:587: FutureWarning: Series.base is deprecated and will be removed in a future version\n",
            "  if getattr(data, 'base', None) is not None and \\\n",
            "/usr/local/lib/python3.6/dist-packages/xgboost/core.py:587: FutureWarning: Series.base is deprecated and will be removed in a future version\n",
            "  if getattr(data, 'base', None) is not None and \\\n",
            "/usr/local/lib/python3.6/dist-packages/xgboost/core.py:587: FutureWarning: Series.base is deprecated and will be removed in a future version\n",
            "  if getattr(data, 'base', None) is not None and \\\n",
            "/usr/local/lib/python3.6/dist-packages/xgboost/core.py:587: FutureWarning: Series.base is deprecated and will be removed in a future version\n",
            "  if getattr(data, 'base', None) is not None and \\\n",
            "/usr/local/lib/python3.6/dist-packages/xgboost/core.py:587: FutureWarning: Series.base is deprecated and will be removed in a future version\n",
            "  if getattr(data, 'base', None) is not None and \\\n",
            "/usr/local/lib/python3.6/dist-packages/xgboost/core.py:587: FutureWarning: Series.base is deprecated and will be removed in a future version\n",
            "  if getattr(data, 'base', None) is not None and \\\n",
            "/usr/local/lib/python3.6/dist-packages/xgboost/core.py:588: FutureWarning: Series.base is deprecated and will be removed in a future version\n",
            "  data.base is not None and isinstance(data, np.ndarray) \\\n"
          ],
          "name": "stderr"
        },
        {
          "output_type": "stream",
          "text": [
            "최적 평균 RMSE 값: 58.8431\n",
            "최적 파라미터: {'n_estimators': 5000}\n"
          ],
          "name": "stdout"
        }
      ]
    },
    {
      "cell_type": "code",
      "metadata": {
        "id": "AwyueUdskkpx",
        "colab_type": "code",
        "colab": {}
      },
      "source": [
        "best_xgb"
      ],
      "execution_count": 0,
      "outputs": []
    },
    {
      "cell_type": "code",
      "metadata": {
        "id": "idsVeKvWtRfE",
        "colab_type": "code",
        "colab": {}
      },
      "source": [
        "import xgboost as xgb\n",
        "\n",
        "xgb_reg=xgb.XGBRegressor(base_score=0.5, booster='gbtree', colsample_bylevel=1,\n",
        "             colsample_bynode=1, colsample_bytree=0.8, gamma=0,\n",
        "             importance_type='gain', learning_rate=0.1, max_delta_step=0,\n",
        "             max_depth=5, min_child_weight=1, missing=None, n_estimators=3300,\n",
        "             n_jobs=-1, nthread=-1, objective='reg:linear', random_state=7,\n",
        "             reg_alpha=0, reg_lambda=1, scale_pos_weight=1, seed=None, silent=1,\n",
        "             subsample=1, verbosity=1)\n"
      ],
      "execution_count": 0,
      "outputs": []
    },
    {
      "cell_type": "code",
      "metadata": {
        "id": "M-kf0Idvwu7x",
        "colab_type": "code",
        "outputId": "3106ca67-beba-4e65-d399-8d496ce87dd3",
        "colab": {
          "base_uri": "https://localhost:8080/",
          "height": 521
        }
      },
      "source": [
        "print(X_train)\n",
        "print(X_test)"
      ],
      "execution_count": 0,
      "outputs": [
        {
          "output_type": "stream",
          "text": [
            "         route_id    vh_id  now_station  distance  next_station\n",
            "0       405136001  7997025          239     266.0           227\n",
            "1       405136001  7997025          227     333.0           228\n",
            "2       405136001  7997025          228     415.0           235\n",
            "3       405136001  7997025           41     578.0           249\n",
            "4       405136001  7997025           63     374.0           221\n",
            "...           ...      ...          ...       ...           ...\n",
            "210452  405328102  7983486           95     528.0           108\n",
            "210453  405328102  7983486           65     280.0            81\n",
            "210454  405328102  7983486          122     114.0           178\n",
            "210455  405328102  7983486          178     223.0           298\n",
            "210456  405328102  7983486           58     189.0           120\n",
            "\n",
            "[210457 rows x 5 columns]\n",
            "        route_id    vh_id  now_station  distance  next_station\n",
            "0      405136001  7997025          227     333.0           228\n",
            "1      405136001  7997025          228     415.0           235\n",
            "2      405136001  7997025          323     417.0            59\n",
            "3      405136001  7997025           59     334.0           183\n",
            "4      405136001  7997025          183     550.0           285\n",
            "...          ...      ...          ...       ...           ...\n",
            "91769  405328102  7983486          255     272.0            10\n",
            "91770  405328102  7983486           10     447.0           245\n",
            "91771  405328102  7983486          245     418.0            22\n",
            "91772  405328102  7983486           22     140.0           287\n",
            "91773  405328102  7983486          203     541.0           244\n",
            "\n",
            "[91774 rows x 5 columns]\n"
          ],
          "name": "stdout"
        }
      ]
    },
    {
      "cell_type": "code",
      "metadata": {
        "id": "ZLGpjYIctzBx",
        "colab_type": "code",
        "outputId": "2fad563a-8ce4-434a-eca4-d6ff726a98e7",
        "colab": {
          "base_uri": "https://localhost:8080/",
          "height": 89
        }
      },
      "source": [
        "xgb_reg.fit(X_train, y_train)\n",
        "\n",
        "xgb_pred = xgb_reg.predict(X_test)"
      ],
      "execution_count": 0,
      "outputs": [
        {
          "output_type": "stream",
          "text": [
            "/usr/local/lib/python3.6/dist-packages/xgboost/core.py:587: FutureWarning: Series.base is deprecated and will be removed in a future version\n",
            "  if getattr(data, 'base', None) is not None and \\\n",
            "/usr/local/lib/python3.6/dist-packages/xgboost/core.py:588: FutureWarning: Series.base is deprecated and will be removed in a future version\n",
            "  data.base is not None and isinstance(data, np.ndarray) \\\n"
          ],
          "name": "stderr"
        }
      ]
    },
    {
      "cell_type": "code",
      "metadata": {
        "id": "PSaTvcAkt6V0",
        "colab_type": "code",
        "outputId": "3af4f667-bdf6-4b4c-d14c-a7cb2630fdb6",
        "colab": {
          "base_uri": "https://localhost:8080/",
          "height": 377
        }
      },
      "source": [
        "test['next_arrive_time']=xgb_pred\n",
        "print(test[['id','next_arrive_time']].head(5))\n",
        "print(test)"
      ],
      "execution_count": 0,
      "outputs": [
        {
          "output_type": "stream",
          "text": [
            "       id  next_arrive_time\n",
            "0  210457         37.934437\n",
            "1  210458         46.130589\n",
            "2  210459        129.650375\n",
            "3  210460         63.408043\n",
            "4  210461        146.395111\n",
            "           id   route_id    vh_id  ...  distance  next_station  next_arrive_time\n",
            "0      210457  405136001  7997025  ...     333.0           228         37.934437\n",
            "1      210458  405136001  7997025  ...     415.0           235         46.130589\n",
            "2      210459  405136001  7997025  ...     417.0            59        129.650375\n",
            "3      210460  405136001  7997025  ...     334.0           183         63.408043\n",
            "4      210461  405136001  7997025  ...     550.0           285        146.395111\n",
            "...       ...        ...      ...  ...       ...           ...               ...\n",
            "91769  302350  405328102  7983486  ...     272.0            10        100.698257\n",
            "91770  302351  405328102  7983486  ...     447.0           245         71.507233\n",
            "91771  302352  405328102  7983486  ...     418.0            22        115.581802\n",
            "91772  302353  405328102  7983486  ...     140.0           287         29.566813\n",
            "91773  302354  405328102  7983486  ...     541.0           244         92.466423\n",
            "\n",
            "[91774 rows x 7 columns]\n"
          ],
          "name": "stdout"
        }
      ]
    },
    {
      "cell_type": "code",
      "metadata": {
        "id": "MnwYQH02wU9z",
        "colab_type": "code",
        "colab": {}
      },
      "source": [
        "test[['id','next_arrive_time']].to_csv(\"submission.csv\", index=False)"
      ],
      "execution_count": 0,
      "outputs": []
    }
  ]
}